{
 "cells": [
  {
   "cell_type": "markdown",
   "metadata": {},
   "source": [
    "# Analysis of High School and Middle School Smoking Tendencies\n",
    "##### By Brian He \n",
    "#### 05.2017"
   ]
  },
  {
   "cell_type": "markdown",
   "metadata": {
    "collapsed": true
   },
   "source": [
    "## Abstract\n",
    "The following project seeks to deepend the understanding of smoking behavior among middle school and high school students by using data provided by the Centers for Disease Control and Prevention (CDC)’s ‘Youth Tobacco Survey (YTS), More specifically, one can determine the significance of change between 2000 and 2015 through hypothesis testing, histogramming, and linear regression. Analysis such as this important because one can draw conclusions on how social media and advertisement has affected youth smoking over time. "
   ]
  },
  {
   "cell_type": "markdown",
   "metadata": {},
   "source": [
    "## Hypothesis Testing - Wilcoxon Sum of Ranks Test\n",
    "\n",
    "The first hypothesis test run on the data is the Wilcoxon Sum of Ranks Test. The purpose of the Wilcoxon Sum of Ranks Test is to see if two sets of unmatched and unpaired data come from the same distribution. For the analysis of tobacco smoking, the test is used to see whether the percentage of high school smokers in 2000 come from the same distribution as high school smokers in 2015. A more specific null hypothesis would be that there is no significant change in the percentage of high school smokers in 2000 as compared to 2015. Obtaining a p-value, we can compare this with a predetermined alpha value of 5%, to account for random chances occurrences, to determine whether our null hypothesis can be rejected. In python, scipy.stats.ranksums can access the wilcoxon sum of ranks test.\n",
    "\n",
    "#### Mathematics of Wilcoxon Sum of Ranks Test\n",
    "For two different sets of data, $X$ and $Y$, with samples of $n_X$ and $n_Y$, respectively, one allows $R_i$ to be the rank of the sample size and $W$ to be the value obtained from the test, we have as follows.\n",
    "\n",
    "$$ W = n_X\\times n_Y + \\frac{n_Y \\times{n_Y +1}}{2} - \\sum^{n_Y}_{i=n_X +1} R_i$$\n",
    "\n"
   ]
  },
  {
   "cell_type": "code",
   "execution_count": 3,
   "metadata": {},
   "outputs": [
    {
     "name": "stdout",
     "output_type": "stream",
     "text": [
      "Null hypothesis is that there have been no significant change in smoking behavior among high school students from 2000 to 2015\n",
      "One should reject null hypothesis because the 0.00001 value is less than the alpha value of 0.05000\n"
     ]
    }
   ],
   "source": [
    "import pandas as pd\n",
    "import matplotlib.pyplot as plt\n",
    "import scipy.stats as ss\n",
    "YTData = pd.read_csv('Youth_Tobacco.csv')\n",
    "\n",
    "HS2015 = YTData[(YTData.YEAR == 2015) & (YTData.MeasureDesc == 'Smoking Status') & (YTData.Response == 'Current') \n",
    "                  & (YTData.Education == 'High School') & (YTData.Gender == 'Overall')]\n",
    "HS2015Current = HS2015['Data_Value'] \n",
    "#slices data to obtain matrix of current high school smokers in 2015\n",
    "\n",
    "HS2000 = YTData[(YTData.YEAR == 2000) & (YTData.MeasureDesc == 'Smoking Status') & (YTData.Response == 'Current') \n",
    "                  & (YTData.Education == 'High School') & (YTData.Gender == 'Overall')]\n",
    "HS2000Current = HS2000['Data_Value']\n",
    "#slices data to obtain matrix of current high school smokers in 2000\n",
    "\n",
    "#Sum of ranks\n",
    "alpha = 0.05\n",
    "print('Null hypothesis is that there have been no significant change in smoking behavior among high school students from 2000 to 2015')\n",
    "_,pvalue = ss.ranksums(HS2015Current, HS2000Current)\n",
    "if pvalue < alpha:\n",
    "    print('One should reject null hypothesis because the {:.5f} value is less than the alpha value of {:.5f}'.format(pvalue,alpha))\n",
    "else:\n",
    "    print('One should not reject null hypothesis because the {:.5f} value is less than the alpha value of {:.5f}'.format(pvalue,alpha))"
   ]
  },
  {
   "cell_type": "code",
   "execution_count": 4,
   "metadata": {},
   "outputs": [
    {
     "name": "stdout",
     "output_type": "stream",
     "text": [
      "Null hypothesis is that there have been no significant change in smoking behavior for middle school students from 2000 to 2015\n",
      "One should reject null hypothesis because the 0.0000021 value is less than the alpha value of 0.0500000\n"
     ]
    }
   ],
   "source": [
    "MS2015 = YTData[(YTData.YEAR == 2015) & (YTData.MeasureDesc == 'Smoking Status') & (YTData.Response == 'Current') \n",
    "                  & (YTData.Education == 'Middle School') & (YTData.Gender == 'Overall')]\n",
    "MS2015Current = MS2015['Data_Value'] \n",
    "#slices data to obtain matrix of current middle school smokers in 2015\n",
    "\n",
    "MS2000 = YTData[(YTData.YEAR == 2000) & (YTData.MeasureDesc == 'Smoking Status') & (YTData.Response == 'Current') \n",
    "                  & (YTData.Education == 'Middle School') & (YTData.Gender == 'Overall')]\n",
    "MS2000Current = MS2000['Data_Value']\n",
    "#slices data to obtain matrix of current middle school smokers in 2000\n",
    "\n",
    "#Sum of ranks\n",
    "alpha = 0.05\n",
    "print('Null hypothesis is that there have been no significant change in smoking behavior for middle school students from 2000 to 2015')\n",
    "_,pvalueMS = ss.ranksums(MS2015Current, MS2000Current)\n",
    "if pvalue < alpha:\n",
    "    print('One should reject null hypothesis because the {:.7f} value is less than the alpha value of {:.7f}'.format(pvalueMS,alpha))\n",
    "else:\n",
    "    print('One should not reject null hypothesis because the {:.7f} value is less than the alpha value of {:.7f}'.format(pvalueMS,alpha))"
   ]
  },
  {
   "cell_type": "markdown",
   "metadata": {},
   "source": [
    "## Histogramming\n",
    "Because the Wilcoxon Sum of Ranks Test does not allow one to visualize data well, histogramming is provided in order to view a more concrete difference between the two data sets in focus. By using widget functions associated with python, a drop down menu is able to be created for data associated with both high school and middle school students from 1999 to 2015."
   ]
  },
  {
   "cell_type": "code",
   "execution_count": 4,
   "metadata": {},
   "outputs": [
    {
     "name": "stderr",
     "output_type": "stream",
     "text": [
      "C:\\Users\\bhbri\\Anaconda3\\lib\\site-packages\\IPython\\html.py:14: ShimWarning: The `IPython.html` package has been deprecated since IPython 4.0. You should import from `notebook` instead. `IPython.html.widgets` has moved to `ipywidgets`.\n",
      "  \"`IPython.html.widgets` has moved to `ipywidgets`.\", ShimWarning)\n"
     ]
    },
    {
     "data": {
      "application/vnd.jupyter.widget-view+json": {
       "model_id": "0427ec580b194c24ba77466d356f9021",
       "version_major": 2,
       "version_minor": 0
      },
      "text/plain": [
       "interactive(children=(Dropdown(description='Choose the Year For High School Smokers', options=(1999, 2000, 200…"
      ]
     },
     "metadata": {},
     "output_type": "display_data"
    }
   ],
   "source": [
    "from IPython.html import widgets\n",
    "from IPython.display import display\n",
    "import matplotlib.ticker as ticker\n",
    "\n",
    "HS = YTData[ (YTData.MeasureDesc == 'Smoking Status') & (YTData.Response == 'Current') \n",
    "                  & (YTData.Education == 'High School') & (YTData.Gender == 'Overall')]\n",
    "HS_Polish = HS[['YEAR','Data_Value']]\n",
    "#Slices data to obtain matrix of year and smoking percentange for current high school smokers regardless of gender\n",
    "def HSYear(Year):\n",
    "    '''This function returns the graph of smoking percentage of high school students vs the number of states \n",
    "        \n",
    "    Args:\n",
    "        Year: an int specifying which year wanted to be used\n",
    "    \n",
    "    Returns: \n",
    "        returns the graph of smoking percentage vs the number of states\n",
    "    \n",
    "    '''\n",
    "    x = Year # For the year in title axis\n",
    "    HS_PolishYear = HS_Polish[HS_Polish.YEAR == Year]  #specifying year\n",
    "    SmokingPercent = HS_PolishYear['Data_Value']     #creating matrix of only smoking percent for that year\n",
    "    fig, ax = plt.subplots()       #creating subplots for manipulation\n",
    "    plt.style.use('fivethirtyeight')\n",
    "    plt.title('Percent of High School Smokers in {}'.format(x))\n",
    "    plt.xlabel('Percentage of Current Smokers (Surveyed by State)')\n",
    "    plt.ylabel('Frequency (Number of States)')\n",
    "    fig = plt.hist(SmokingPercent, rwidth = 0.9, color = 'purple')\n",
    "    for axis in [ax.yaxis]:\n",
    "        axis.set_major_locator(ticker.MaxNLocator(integer=True)) #setting y-axis to be only integers\n",
    "\n",
    "    return plt.show()\n",
    "    \n",
    "drop = widgets.Dropdown(      #creating widget for dropdown with list of year options\n",
    "    options = [1999, 2000, 2001, 2002, 2003, 2004, 2005, 2006, 2007, 2008, 2009, 2010, 2011, 2012, 2013, 2014, 2015] ,\n",
    "    description = 'Choose the Year For High School Smokers')\n",
    "widget = widgets.interactive(HSYear, Year = drop)\n",
    "display(widget)\n"
   ]
  },
  {
   "cell_type": "code",
   "execution_count": 5,
   "metadata": {},
   "outputs": [
    {
     "data": {
      "application/vnd.jupyter.widget-view+json": {
       "model_id": "64ba710abea94a1eb7d9af13ce045dce",
       "version_major": 2,
       "version_minor": 0
      },
      "text/plain": [
       "interactive(children=(Dropdown(description='Choose the Year For Middle School Smokers', options=(1999, 2000, 2…"
      ]
     },
     "metadata": {},
     "output_type": "display_data"
    }
   ],
   "source": [
    "MS = YTData[ (YTData.MeasureDesc == 'Smoking Status') & (YTData.Response == 'Current') \n",
    "                  & (YTData.Education == 'Middle School') & (YTData.Gender == 'Overall')]\n",
    "MS_Polish = MS[['YEAR','Data_Value']]\n",
    "\n",
    "#Slices data to obtain matrix of year and smoking percentange for current middle school smokers regardless of gender\n",
    "def MSYear(Year):\n",
    "    '''This function returns the graph of smoking percentage of middle school students vs the number of states \n",
    "        \n",
    "    Args:\n",
    "        Year: an int specifying which year wanted to be used\n",
    "    \n",
    "    Returns: \n",
    "        returns the graph of smoking percentage vs the number of states\n",
    "    \n",
    "    '''\n",
    "    x = Year # For the year in title saxis\n",
    "    MS_PolishYear = MS_Polish[MS_Polish.YEAR == Year] #specifying year\n",
    "    SmokingPercentMS = MS_PolishYear['Data_Value']  #creating matrix of only smoking percent for that year\n",
    "    fig2, ax2 = plt.subplots() #creating subplots for manipulation\n",
    "    plt.style.use('fivethirtyeight')\n",
    "    plt.title('Percent of Middle Smokers in {}'.format(x))\n",
    "    plt.xlabel('Percentage of Current Smokers (Surveyed by State)')\n",
    "    plt.ylabel('Frequency (Number of States)')\n",
    "    fig2 = plt.hist(SmokingPercentMS, rwidth = 0.9, color = 'blue')\n",
    "    for axis in [ax2.yaxis]:\n",
    "        axis.set_major_locator(ticker.MaxNLocator(integer=True)) #creating only integer ticks for y-axis\n",
    "    return plt.show()\n",
    "  \n",
    "dropMS = widgets.Dropdown( #creates widget for middle school smokers with drop down of years\n",
    "    options = [1999, 2000, 2001, 2002, 2003, 2004, 2005, 2006, 2007, 2008, 2009, 2010, 2011, 2012, 2013, 2014, 2015] ,\n",
    "    description = 'Choose the Year For Middle School Smokers')\n",
    "widgetMS = widgets.interactive(MSYear, Year = dropMS)\n",
    "display(widgetMS)"
   ]
  },
  {
   "cell_type": "markdown",
   "metadata": {},
   "source": [
    "## Shapiro-Wilk Test\n",
    "To determine if smoking percent in 2000 and smoking percent in 2015 are normally distributed, the Shapiro Wilk Test is performed. The null hypothesis is that the data is normally distributed. The alpha value is 5% or 0.05 to account for random chances of probability.\n",
    "\n",
    "### Mathematics Behind Shapiro Wilk Test\n",
    "A $W$ statistic is calculated where\n",
    "\n",
    "$$W = \\frac{\\bigg{(}\\sum_{i=1}^n{a_i x_i}\\bigg{)}^2}{\\sum_{i=1}^n{(x_i - \\bar{x})^2}}$$\n",
    "\n",
    "and $x_i$ is the order statistic (for example the 'i'-th smallest number in the sample, $\\bar{x}$ is the sample mean and $a_i$ is a constant."
   ]
  },
  {
   "cell_type": "code",
   "execution_count": 6,
   "metadata": {},
   "outputs": [
    {
     "name": "stdout",
     "output_type": "stream",
     "text": [
      "Because the p value, 0.9354 is greater than the alpha value given, we cannot reject the null hypothesis that the percent high  school smokers in the United States come from a normal distribution\n",
      "Because the p value, 0.0059 is less than the alpha value, we reject the null hypothesis that the percent of high school smokers in the United States come from a normal distribution\n"
     ]
    }
   ],
   "source": [
    "#TEST FOR NORMAL DISTRIBUTION SHAPIRO WILKS HIGH SCHOOL\n",
    "alpha = 0.05\n",
    "pHS2015 = ss.shapiro(HS2015Current)[1]\n",
    "if pHS2015 < alpha:\n",
    "    print (('Because the p value, {:.4f} is less than the alpha value, we reject the null hypothesis that the percent of high school smokers in the United States come from a normal distribution').format(pHS2015))\n",
    "else:\n",
    "    print (('Because the p value, {:.4f} is greater than the alpha value given, we cannot reject the null hypothesis that the percent high  school smokers in the United States come from a normal distribution').format(pHS2015))\n",
    "\n",
    "    \n",
    "pHS2000 = ss.shapiro(HS2000Current)[1]\n",
    "if pHS2000 < alpha:\n",
    "    print (('Because the p value, {:.4f} is less than the alpha value, we reject the null hypothesis that the percent of high school smokers in the United States come from a normal distribution').format(pHS2000))\n",
    "else:\n",
    "    print (('Because the p value, {:.4f} is greater than the alpha value given, we cannot reject the null hypothesis that the percent for high school smokers in the United States come from a normal distribution').format(pHS2000))"
   ]
  },
  {
   "cell_type": "code",
   "execution_count": 7,
   "metadata": {},
   "outputs": [
    {
     "name": "stdout",
     "output_type": "stream",
     "text": [
      "Because the p value, 0.6406 is greater than the alpha value, we cannot reject the null hypothesis that the percent of middle   school smokers in the United States come from a normal distribution\n",
      "Because the p value, 0.9810 is greater than the alpha value, we cannot reject the null hypothesis that the percent of middle   school smokers in the United States come from a normal distribution\n"
     ]
    }
   ],
   "source": [
    "#TEST FOR NORMAL DISTRIBUTION SHAPIRO WILKS MIDDLE SCHOOL\n",
    "alpha = 0.05\n",
    "pMS2015 = ss.shapiro(MS2015Current)[1]\n",
    "if pMS2015 < alpha:\n",
    "    print (('Because the p value, {:.4f} is less than the alpha value, we reject the null hypothesis that the percent of middle school smokers in the United States come from a normal distribution').format(pMS2015))\n",
    "else:\n",
    "    print (('Because the p value, {:.4f} is greater than the alpha value, we cannot reject the null hypothesis that the percent of middle   school smokers in the United States come from a normal distribution').format(pMS2015))\n",
    "\n",
    "pMS2000 = ss.shapiro(MS2000Current)[1]\n",
    "if pMS2000 < alpha:\n",
    "    print (('Because the p value, {:.4f} is less than the alpha value, we reject the null hypothesis that the percent of middle school smokers in the United States come from a normal distribution').format(pMS2000))\n",
    "else:\n",
    "    print (('Because the p value, {:.4f} is greater than the alpha value, we cannot reject the null hypothesis that the percent of middle   school smokers in the United States come from a normal distribution').format(pMS2000))"
   ]
  },
  {
   "cell_type": "markdown",
   "metadata": {},
   "source": [
    "##  Regression\n",
    "#### Linear Regression\n",
    "To continue the analysis of youth smoking behavior over time, regression will be used. Essentially, using the data sets provided, models are estimated. The method used is Ordinary Least Squares Regression in 1D (OLS-1D)\n",
    "\n",
    "In linear regression, the data is assumed to be linear with the following form:\n",
    "$$ y = \\alpha + \\beta x + \\epsilon$$ where $\\epsilon$ is a noise term, which is usually assumed to be normally distributed.\n",
    "Our model will be based\n",
    "$$ \\hat{y} = \\hat{\\alpha} +  \\hat{\\beta}x $$\n",
    "where the 'hats' represent the estimates.\n",
    "\n",
    "When actually fitting the line, it will be based on the least squares, which is given by\n",
    "$$\\hat\\beta = \\frac{\\sum_i(x_i - \\bar{x})(y_i - \\bar{y})}{\\sum_i(x_i - \\bar{x})^2} = \\frac{\\sigma_{xy}}{\\sigma_x^2}, \\\\\n",
    "\\hat\\alpha = \\frac{1}{N}\\sum\\limits_i (y_i - \\hat\\beta x_i)$$\n",
    "\n",
    "$$\\frac{\\sigma_{xy}}{\\sigma_x^2}$$ represents covariance divided by the variance of x.\n",
    "\n",
    "The goodness of fit is found to see how well the line fits the data. One should note that the particular value found may not have a high $R^2$ value which would correspond to good correlation, it would not mean that all linear fits themselves would not fit well. R would be the correlation coefficient.\n",
    "\n",
    "To calculate goodness of fit one looks at the following equation,\n",
    "$$R^2 = 1 - \\frac{\\textrm{SSR}}{\\textrm{TSS}} = 1 - \\frac{\\sum_i \\left(\\hat{y}_i - y\\right)^2}{\\sum_i \\left(\\bar{y} - y\\right)^2}$$\n",
    "\n",
    "Here, SSR is the sum of square residuals, obtained by taking our estimated y, subtracting the actual y from it and squaring.\n",
    "TSS is total sum of squares which accounts for the variation in given y data."
   ]
  },
  {
   "cell_type": "markdown",
   "metadata": {},
   "source": [
    "### High School\n",
    "The first step will be to plot the data set and the fitted line"
   ]
  },
  {
   "cell_type": "code",
   "execution_count": 8,
   "metadata": {},
   "outputs": [
    {
     "name": "stdout",
     "output_type": "stream",
     "text": [
      "The beta hat value obtained is -1.0659 \n",
      "The alpha hat value obtained is 2159.1297 \n",
      "Model equation is y_hat =  2159.1297 + -1.0659x\n"
     ]
    },
    {
     "data": {
      "image/png": "[encoded data removed]",
      "text/plain": [
       "<Figure size 432x288 with 1 Axes>"
      ]
     },
     "metadata": {},
     "output_type": "display_data"
    },
    {
     "name": "stdout",
     "output_type": "stream",
     "text": [
      "Goodness of fit R^2 is 0.5355726266975843\n"
     ]
    }
   ],
   "source": [
    "HSData = YTData[(YTData.MeasureDesc == 'Smoking Status') & (YTData.Response == 'Current') \n",
    "                  & (YTData.Education == 'High School') & (YTData.Gender == 'Overall')]\n",
    "\n",
    "xvalue = HSData.YEAR\n",
    "yvalue = HSData.Data_Value\n",
    "\n",
    "import numpy as np\n",
    "cov = np.cov(xvalue,yvalue,ddof=2) #get covariance matrix\n",
    "#diagonal is variances, so we can just index to get all data we need:\n",
    "beta_hat = cov[0,1]/cov[0,0] \n",
    "alpha_hat = np.mean(yvalue - beta_hat*xvalue)\n",
    "print('The beta hat value obtained is {:.4f} '.format(beta_hat))\n",
    "print('The alpha hat value obtained is {:.4f} '.format(alpha_hat))\n",
    "print('Model equation is y_hat =  {:.4f} + {:.4f}x'.format(alpha_hat,beta_hat))\n",
    "\n",
    "\n",
    "#Plot the model fit\n",
    "import matplotlib.pyplot as plt\n",
    "y_hat = alpha_hat + beta_hat*xvalue\n",
    "plt.plot(xvalue,y_hat,'-', label = 'Fitted Line')\n",
    "plt.plot(xvalue,yvalue, 'o', label = 'Data')\n",
    "plt.legend()\n",
    "plt.xlabel(\"Year\")\n",
    "plt.ylabel(\"Percent of High School Students Smoking\")\n",
    "plt.title(\"Smoking Behavior Over Years\", fontsize = 20)\n",
    "plt.show()\n",
    "\n",
    "def SSR(beta):\n",
    "    '''This function returns the sum of square residuals given a beta argument with respect to high school fit\n",
    "        \n",
    "    Args:\n",
    "        beta: the estimated coefficient. A float.\n",
    "    \n",
    "    Returns: \n",
    "        sum of square residual\n",
    "    \n",
    "    '''\n",
    "    y_hat = alpha_hat + beta_hat*xvalue\n",
    "    residuals = y_hat - yvalue\n",
    "    return np.sum(residuals**2)\n",
    "\n",
    "ssr = SSR(beta_hat) #Find sum of square residuals\n",
    "tss = np.sum((yvalue-np.mean(yvalue))**2) \n",
    "rsq = 1 - (ssr/tss) #returns r squared\n",
    "print('Goodness of fit R^2 is {}'.format(rsq))"
   ]
  },
  {
   "cell_type": "markdown",
   "metadata": {},
   "source": [
    "### Spearman Correlation Test\n",
    "The Spearman Correlation Test will see if there is correlation between year and the percentage of high school smokers. The null hypothesis will be that the year and the percentage of high school smokers are not correlated."
   ]
  },
  {
   "cell_type": "code",
   "execution_count": 9,
   "metadata": {},
   "outputs": [
    {
     "name": "stdout",
     "output_type": "stream",
     "text": [
      "The p-value is 5.171e-37, which is less than the alpha value and therefore we reject the null hypothesis.\n"
     ]
    }
   ],
   "source": [
    "corr_year_percent = ss.spearmanr(xvalue, yvalue)[1]\n",
    "alpha = 0.05\n",
    "if corr_year_percent < alpha:\n",
    "    print(\"The p-value is {:.4}, which is less than the alpha value and therefore we reject the null hypothesis.\".format(corr_year_percent))\n",
    "else:\n",
    "    print(\"The p-value is {:.4}, which is less than the alpha value and therefore we cannot reject the null hypothesis.\".format(corr_year_percent))"
   ]
  },
  {
   "cell_type": "markdown",
   "metadata": {},
   "source": [
    "## Middle School Regression\n",
    "\n",
    "Begin by the plotting relationship and plotting fit line."
   ]
  },
  {
   "cell_type": "code",
   "execution_count": 10,
   "metadata": {},
   "outputs": [
    {
     "name": "stdout",
     "output_type": "stream",
     "text": [
      "The alpha hat value obtained is 1235.8069 \n",
      "The alpha hat value obtained is -0.6122 \n",
      "Model equation is y_hat =  1235.8069 + -0.6122x\n"
     ]
    },
    {
     "data": {
      "image/png": "[encoded data removed]",
      "text/plain": [
       "<Figure size 432x288 with 1 Axes>"
      ]
     },
     "metadata": {},
     "output_type": "display_data"
    },
    {
     "name": "stdout",
     "output_type": "stream",
     "text": [
      "Goodness of fit R^2 is 0.5078944527603512\n"
     ]
    }
   ],
   "source": [
    "#Start with plotting relationship\n",
    "MSData = YTData[(YTData.MeasureDesc == 'Smoking Status') & (YTData.Response == 'Current') \n",
    "                  & (YTData.Education == 'Middle School') & (YTData.Gender == 'Overall')]\n",
    "\n",
    "xvalueMS = MSData.YEAR\n",
    "yvalueMS = MSData.Data_Value\n",
    "\n",
    "cov = np.cov(xvalueMS,yvalueMS,ddof=2) #get covariance matrix\n",
    "#diagonal is variances, so we can just index to get all data we need:\n",
    "beta_hat2 = cov[0,1]/cov[0,0]\n",
    "alpha_hat2 = np.mean(yvalueMS - beta_hat2*xvalueMS)\n",
    "print('The alpha hat value obtained is {:.4f} '.format(alpha_hat2))\n",
    "print('The alpha hat value obtained is {:.4f} '.format(beta_hat2))\n",
    "print('Model equation is y_hat =  {:.4f} + {:.4f}x'.format(alpha_hat2,beta_hat2))\n",
    "\n",
    "#Plot the model fit\n",
    "import matplotlib.pyplot as plt\n",
    "y_hat = alpha_hat2 + beta_hat2*xvalueMS\n",
    "plt.plot(xvalueMS,y_hat,'-', label = 'Fitted Line')\n",
    "plt.plot(xvalueMS,yvalueMS, 'o', label = 'Data')\n",
    "plt.legend()\n",
    "plt.xlabel(\"Year\")\n",
    "plt.ylabel(\"Percent of Middle School Students Smoking\")\n",
    "plt.title(\"Smoking Behavior Over Years\", fontsize = 20)\n",
    "plt.show()\n",
    "\n",
    "def SSR(beta):\n",
    "    '''This function returns the sum of square residuals given a beta argument with respect to middle school fit\n",
    "        \n",
    "    Args:\n",
    "        beta: the estimated coefficient. A float.\n",
    "    \n",
    "    Returns: \n",
    "        sum of square residual\n",
    "    \n",
    "    '''\n",
    "    y_hat = alpha_hat2 + beta_hat2*xvalueMS\n",
    "    residuals = y_hat - yvalueMS\n",
    "    return np.sum(residuals**2)\n",
    "\n",
    "ssr = SSR(beta_hat2) #Find sum of square residuals\n",
    "tss = np.sum((yvalueMS-np.mean(yvalueMS))**2) \n",
    "rsq = 1 - (ssr/tss)\n",
    "print('Goodness of fit R^2 is {}'.format(rsq))"
   ]
  },
  {
   "cell_type": "markdown",
   "metadata": {},
   "source": [
    "### Spearman Correlation Test\n",
    "The Spearman Correlation Test will see if there is correlation between year and the percentage of middle school smokers. The null hypothesis will be that the year and the percentage of high school smokers are not correlated."
   ]
  },
  {
   "cell_type": "code",
   "execution_count": 11,
   "metadata": {},
   "outputs": [
    {
     "name": "stdout",
     "output_type": "stream",
     "text": [
      "The p-value is 5.003e-40, which is less than the alpha value and therefore we reject the null hypothesis.\n"
     ]
    }
   ],
   "source": [
    "corr_year_percent2 = ss.spearmanr(xvalueMS, yvalueMS)[1]\n",
    "alpha = 0.05\n",
    "if corr_year_percent2 < alpha:\n",
    "    print(\"The p-value is {:.4}, which is less than the alpha value and therefore we reject the null hypothesis.\".format(corr_year_percent2))\n",
    "else:\n",
    "    print(\"The p-value is {:.4}, which is less than the alpha value and therefore we cannot reject the null hypothesis.\".format(corr_year_percent2))"
   ]
  },
  {
   "cell_type": "markdown",
   "metadata": {},
   "source": [
    "## Conclusions \n",
    "By using the Wilcoxon sum of ranks test, one can conclude that there may have been a significant change from 2000 to 2015 when analyzing the percentage of both high school and middle school smokers. Through the Shapiro-Wilk test, one can conclude that only high school smoker percentage from 2000 cannot come from a normal distribution. Lastly, we can see that the particular linear fits found are decent for the data but not perfect due to a low R^2 value. This type of analysis is interesting and useful because one can see that there may be a significant change in smoking behavior over time with data coming from a normal distribution. The next question one may ask is what has caused this change? One idea to consider is the affect of social media. Are advertisements and commercials working to reduce smoking? Are companies implementing these commercials actually doing so cost efficiently. There is vast amount of data in such topic and should definitely be further investigated."
   ]
  },
  {
   "cell_type": "markdown",
   "metadata": {},
   "source": [
    "## Sources \n",
    "\n",
    "Wayne W. LaMorte, \"Mann Whitney U Test (Wilcoxon Rank Sum Test)\", 2016\n",
    "\n",
    "Michael Ash,\"Linear Regression with One Regressor-Michael Ash-Lecture 12\" , 2008\n",
    "\n",
    "Center for Disease Control and Prevention, \"Youth Tobacco Survey\", 2017\n",
    "\n",
    "Andrew White, CHE 116 Lecture Notes, 2017"
   ]
  }
 ],
 "metadata": {
  "kernelspec": {
   "display_name": "Python 3",
   "language": "python",
   "name": "python3"
  },
  "language_info": {
   "codemirror_mode": {
    "name": "ipython",
    "version": 3
   },
   "file_extension": ".py",
   "mimetype": "text/x-python",
   "name": "python",
   "nbconvert_exporter": "python",
   "pygments_lexer": "ipython3",
   "version": "3.7.4"
  },
  "widgets": {
   "state": {
    "8172f5e211e44c1eb9e71a9a9ae2ed22": {
     "views": [
      {
       "cell_index": 33
      }
     ]
    },
    "8812d639c5f64b6098d7e7c0800d809a": {
     "views": [
      {
       "cell_index": 7
      }
     ]
    },
    "b4eba6b207b345a8ab01595f71bd3b60": {
     "views": [
      {
       "cell_index": 6
      }
     ]
    }
   },
   "version": "1.2.0"
  }
 },
 "nbformat": 4,
 "nbformat_minor": 2
}
